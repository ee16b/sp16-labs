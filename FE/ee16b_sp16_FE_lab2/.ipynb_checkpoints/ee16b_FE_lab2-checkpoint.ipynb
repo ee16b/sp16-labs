{
 "cells": [
  {
   "cell_type": "markdown",
   "metadata": {},
   "source": [
    "# Front End Lab 2: DC Reject and Level Shift\n",
    "\n",
    "### EE 16B: Designing Information Devices and Systems II, Fall 2015"
   ]
  },
  {
   "cell_type": "markdown",
   "metadata": {},
   "source": [
    "**Name 1**:\n",
    "\n",
    "**Login**: ee16b-\n",
    "\n",
    "\n",
    "**Name 2**:\n",
    "\n",
    "**Login**: ee16b-"
   ]
  },
  {
   "cell_type": "markdown",
   "metadata": {},
   "source": [
    "\n",
    "## Table of Contents\n",
    "\n",
    "* [Task 0: Lab 1 Setup](#task0)\n",
    "* [Task 1: DC Reject](#task1)\n",
    "* [Task 2: Level Shift](#task2)"
   ]
  },
  {
   "cell_type": "markdown",
   "metadata": {},
   "source": [
    "<a id='task0'></a>\n",
    "## <span style=\"color:blue\">Task 0: Lab 1 Setup - Modified</span>"
   ]
  },
  {
   "cell_type": "markdown",
   "metadata": {},
   "source": [
    "Last week we built a cascade of 3 amplifiers - an instrumentation amplifier and 2 non-inverting amplifiers. The first task of this lab is to test each amplifier and make sure its still work as expected. This is a crucial step - wires might come lose after a breadborad was thrown in a backpack, or a mistake may have been made when hooking the circuit back up to all of the instruments. It's a good idea to test a circuit before building any more parts.\n",
    "\n",
    "\n",
    "Prepare your function generator to output the BMI waveform with the following parameters:\n",
    "- Frequency: <b>1 kHz</b>\n",
    "- Amplitude: <b>100 mVpp</b>\n",
    "- Offset: <b>0 V</b>\n",
    "\n",
    "### Noise Reduction\n",
    "One thing you might have noticed in last week's lab is a 60 Hz signal appearing from time to time - this is caused by noise in our power supply. In the US, wall power is supplied at an AC frequency of 60Hz. Even the best DC power supply lets through some of this AC signal into its DC output. We can fix this with a couple of capacitors.\n",
    "\n",
    "Recall how capacitors behave: they \"ignore,\" or short, high frequency signals. This is perfect to help remove the 60 Hz noise by directing the AC noise on the rails to ground, but maintaining the DC voltage of rails.\n",
    "<b>Add a $1\\mu F$ capacitor between your power supply rails (5V & -5V) and the ground rails</b> (a total of 2 caps). The figure below might prove useful. (Note: only 2 capacitors are shown in this figure but you'll need to add one capacitor between 5V and -5V.)\n",
    "\n",
    "<img style=\"width:200px\" src=\"http://inst.eecs.berkeley.edu/~ee16b/sp16/lab_pics/FE2_CapPlacement.png\">\n",
    "\n",
    "### <span style=\"color:green\">IMPORTANT: KEEP THE CIRCUIT IN THIS LAB FOR NEXT LAB</span>\n",
    "Otherwise you will have to rebuild everything again next week."
   ]
  },
  {
   "cell_type": "markdown",
   "metadata": {},
   "source": [
    "<a id='task1'></a>\n",
    "## <span style=\"color:blue\">Task 1: DC Reject</span>\n",
    "\n",
    "### Materials\n",
    "- Lab 1 setup\n",
    "- 1 1$\\mu$F capacitor (labeled 105)\n",
    "- 1 100k$\\Omega$ resistor"
   ]
  },
  {
   "cell_type": "markdown",
   "metadata": {},
   "source": [
    "Last week, we tested our amplifiers using simple sinusoids - they had a nice frequency and no DC offset. However, real world signals don't always work out so nicely. Next week, we will move forward to testing our circuit with one of the BMI signals that we used in the first set of labs, but first we'll need to fix a couple of things.\n",
    "\n",
    "To get a sense of what a DC offset will do to the circuit, try testing your amplifier cascade with the following signal:\n",
    "\n",
    "- Shape: <b>Sinewave</b>\n",
    "- Frequency: <b>1 kHz</b>\n",
    "- Amplitude: <b>100 mVpp</b>\n",
    "- Offset: <b>0.2 mV</b>"
   ]
  },
  {
   "cell_type": "markdown",
   "metadata": {},
   "source": [
    "So what was the problem with our cascade of amplifiers? It turns out that the instrumentation amplifier adds some DC offset <b> in addition </b> to whatever offset was in our original signal. The amplifier also has a large gain, and this gain applies to the <b> DC offset too</b>.\n",
    "\n",
    "Consider the cartoon below. Imagine that the top left graph shows the input to your instrumentation amplifier - a small signal that has a small DC offset. Take a look at the output at top right: the singal gets amplified to a signal that goes beyond the rail of your circuit!\n",
    "\n",
    "<img style=\"width:400px\" src=\"http://inst.eecs.berkeley.edu/~ee16b/fa15/lab_pics/fe-dc-shift.png\">\n",
    "\n",
    "To solve this issue, we have to get rid of the DC offset of the signal. One way to do this is to apply a high pass filter with a very low cutoff frequency of around 1Hz (recall that DC is 0 Hz).\n",
    "\n",
    "Let's take a look at the circuit below:\n",
    "\n",
    "<img style=\"width:300px\" src=\"http://inst.eecs.berkeley.edu/~ee16b/fa15/lab_pics/fe-dc-reject.png\">"
   ]
  },
  {
   "cell_type": "markdown",
   "metadata": {},
   "source": [
    "**<span style=\"color:red\">Using either differential equations of impedances, derive the transfer function $H(\\omega)$ of the circuit.</span>**\n",
    "\n",
    "YOUR ANSWER HERE\n",
    "\n",
    "**<span style=\"color:red\">Sketch the magnitude of the transfer function with dB as y-axis and $log(\\omega)$ as x-axis.</span>**\n",
    "\n",
    "**<span style=\"color:red\">What happens to the voltage across the capacitor if the frequency $\\omega$ is large? What happens if it is small?</span>**\n",
    "\n",
    "YOUR ANSWER HERE"
   ]
  },
  {
   "cell_type": "markdown",
   "metadata": {},
   "source": [
    "Since we want a \"cutoff frequency\" of around 2 Hz (something small), we can choose to use a <b>$1\\mu F$</b> capacitor and a <b>$100k\\Omega$</b> resistor in the circuit. This results in a reduction of signal power by 2 at 1.6 Hz. Don't worry if none of this is familiar - we will talk about it more in lecture.\n",
    "\n",
    "Build the circuit above and connect the output of your instrumentation amplifier to the input of the DC reject and the output of the DC reject to the input of the first non-inverting amplifier (see the figure below). Probe both the <b> input and output </b> of the DC reject.\n",
    "\n",
    "<img style=\"width: 750px\" src=\"http://inst.eecs.berkeley.edu/~ee16b/fa15/lab_pics/fe-block-2.png\">"
   ]
  },
  {
   "cell_type": "markdown",
   "metadata": {},
   "source": [
    "**<span style=\"color:red\">What is the DC offset of the input of your DC Reject? How about the output of your DC Reject?</span>**\n",
    "\n",
    "YOUR ANSWER HERE"
   ]
  },
  {
   "cell_type": "markdown",
   "metadata": {},
   "source": [
    "Next, lets see what our entire chain of amplifiers does to the signal. <b>Without connecting the output to your Launchpad</b>, probe the output of the whole chain with the oscilloscope.\n",
    "\n",
    "**<span style=\"color:red\">What do you see? What is the issue now?</span>** Hint: Your Launchpad ADC takes input voltages of -0.3 to 3.6V. If you give it any voltage beyond this range you will burn the pin.\n",
    "\n",
    "YOUR ANSWER HERE"
   ]
  },
  {
   "cell_type": "markdown",
   "metadata": {},
   "source": [
    "**<span style=\"color:red\">Checkoff: Show your GSI the output of your DC reject.</span>** "
   ]
  },
  {
   "cell_type": "markdown",
   "metadata": {},
   "source": [
    "<a id='task2'></a>\n",
    "## <span style=\"color:blue\">Task 2: Level Shift</span>\n",
    "\n",
    "### Materials\n",
    "- Task 1 setup\n",
    "- resistors"
   ]
  },
  {
   "cell_type": "markdown",
   "metadata": {},
   "source": [
    "It may look like we have a pretty good signal output already, but it's not at the right voltage offset! It turns out that our Launchpad ADC works at the voltage of the board, which is 0 to 3.3V. Thus, we need to have a level-shift that brings the signal to the right voltage range. To fix this problem, we will modify the last non-inverting amplifier to do a level shift. The circuit we will implement is shown below.\n",
    "\n",
    "<img style=\"width:400px\" src=\"http://inst.eecs.berkeley.edu/~ee16b/sp16/lab_pics/FE2_LevelShift.png\">"
   ]
  },
  {
   "cell_type": "markdown",
   "metadata": {},
   "source": [
    "First, we need to chose the resistor values. <b> Assume that the input voltage ranges from -200 mV to 200 mV </b>. We'll first start with the resistive divider made up of R1 and R2. Write your answers in terms of $V_{in}$, $R_1$, $R_2$, and the voltage at the non-inverting terminal $V_p$."
   ]
  },
  {
   "cell_type": "markdown",
   "metadata": {},
   "source": [
    "**<span style=\"color:red\">What is the current $I$ flowing through $R_1$ and $R_2$?</span>**\n",
    "\n",
    "YOUR ANSWER HERE\n",
    "\n",
    "\n",
    "**<span style=\"color:red\">What is the voltage $V_p$? (Hint: write in relation to the +5 rail)</span>**\n",
    "\n",
    "YOUR ANSWER HERE\n",
    "\n",
    "**<span style=\"color:red\">If $V_{in}$ increases, will $V_p$ increase or decrease?</span>**\n",
    "\n",
    "YOUR ANSWER HERE"
   ]
  },
  {
   "cell_type": "markdown",
   "metadata": {},
   "source": [
    "Now that we have an expression for $V_p$, we can determine $R_1$ and $R_2$. Based on our observations above, we see that $V_p$ is *Proportional* (with an added constant) to $V_{in}$ - this means that we need the *lowest* $V_{in}$ to make $V_p = 0$. Use this and the above information to determine $R_1/R_2$. Using this ratio, we can then calculate the maximum $V_p$ for the given range of $V_{in}$."
   ]
  },
  {
   "cell_type": "markdown",
   "metadata": {},
   "source": [
    "**<span style=\"color:red\">What is the ratio $R_1/R_2$?</span>**\n",
    "\n",
    "YOUR ANSWER HERE\n",
    "\n",
    "**<span style=\"color:red\">What the range of $V_p$ for the given range of $V_{in}$?</span>**\n",
    "\n",
    "YOUR ANSWER HERE"
   ]
  },
  {
   "cell_type": "markdown",
   "metadata": {},
   "source": [
    "Now that we know the range of $V_p$, and we know what we want the output range to be (<b>0V to 3.3V </b>), we can select values for $R_3$ and $R_4$. Note that these resistors simply form a noninverting amplifier, and we can write the gain as $V_{out} / V_{in} = (1 + R_4/R_3)$."
   ]
  },
  {
   "cell_type": "markdown",
   "metadata": {},
   "source": [
    "**<span style=\"color:red\">What is the ratio of $R_4/R_3$?</span>**\n",
    "\n",
    "YOUR ANSWER HERE"
   ]
  },
  {
   "cell_type": "markdown",
   "metadata": {},
   "source": [
    "Now <b>modify your last non-inverting amplifier</b> to the level-shift amplifier above.  Choose approximate resistor values that you can find in the cabinet (you can round $5k\\Omega$ to $5.1k\\Omega$, etc.). You can use 2 resistors in parallel or in series, although anything more than 2 would be too much. <b>Keep in mind: you may need to change all resistance values from the previous non-inverting configuration with Av=60.</b>\n",
    "\n",
    "Your circuit should look like the block diagram below.\n",
    "\n",
    "<img style=\"width: 750px\" src=\"http://inst.eecs.berkeley.edu/~ee16b/fa15/lab_pics/fe-block-3.png\">\n",
    "\n",
    "If you probe the output of the level-shift amplifier, you should see a waveform similar to below. Note that the signal is within the 0-3.3V range!\n",
    "\n",
    "<img style=\"width:600px\" src=\"http://inst.eecs.berkeley.edu/~ee16b/fa15/lab_pics/fe-scope-level-shift.png\">\n",
    "\n",
    "This signal is now acceptable to put into your Launchpad, sample and record. That will happen next week with the complete system.\n",
    "\n",
    "**<span style=\"color:red\">Checkoff: Show the final output to your GSI in the oscilloscope.</span>**"
   ]
  },
  {
   "cell_type": "markdown",
   "metadata": {},
   "source": [
    "### <span style=\"color:green\">IMPORTANT: KEEP THE CIRCUIT IN THIS LAB FOR NEXT LAB</span>\n",
    "Otherwise you will have to rebuild everything again next week.\n",
    "\n",
    "You're almost there! We have a signal that is somewhat large enough for the ADC and is at the right voltage range, but as you can see the signal is very noisy. We also need to analyze how our sampling behaves in the frequency domain. Next week we will see how our circuit actually aliases frequencies above half its sampling frequency and modify our signal processing circuit to solve the issue."
   ]
  }
 ],
 "metadata": {
  "kernelspec": {
   "display_name": "Python 3",
   "language": "python",
   "name": "python3"
  },
  "language_info": {
   "codemirror_mode": {
    "name": "ipython",
    "version": 3
   },
   "file_extension": ".py",
   "mimetype": "text/x-python",
   "name": "python",
   "nbconvert_exporter": "python",
   "pygments_lexer": "ipython3",
   "version": "3.4.3"
  }
 },
 "nbformat": 4,
 "nbformat_minor": 0
}
