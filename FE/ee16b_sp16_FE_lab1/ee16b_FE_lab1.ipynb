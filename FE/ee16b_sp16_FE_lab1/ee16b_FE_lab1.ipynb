{
 "cells": [
  {
   "cell_type": "markdown",
   "metadata": {},
   "source": [
    "# Front End Lab 1: Amplification\n",
    "\n",
    "### EE 16B: Designing Information Devices and Systems II, Fall 2015"
   ]
  },
  {
   "cell_type": "markdown",
   "metadata": {},
   "source": [
    "**Name 1**:\n",
    "\n",
    "**Login**: ee16b-\n",
    "\n",
    "\n",
    "**Name 2**:\n",
    "\n",
    "**Login**: ee16b-"
   ]
  },
  {
   "cell_type": "markdown",
   "metadata": {},
   "source": [
    "\n",
    "##Table of Contents\n",
    "\n",
    "* [Introduction](#intro)\n",
    "* [Task 0: Test Signal Setup](#task0)\n",
    "* [Task 1: Non-inverting Amplifiers](#task1)\n",
    "* [Task 2: Instrumentation Amplifier](#task2)\n",
    "* [Task 3: Putting it All Together (sort of)](#task3)"
   ]
  },
  {
   "cell_type": "markdown",
   "metadata": {},
   "source": [
    "<a id='intro'></a>\n",
    "## Introduction\n",
    "Welcome to the second module - Front End! In the first module, we learned how the brain wave data we record can be used to predict the behavior of the subject, but what we didn't discuss was how we take an analog signal (something in the real world) and translate it into a digital signal (something stored in a computer). The diagram below shows a simple setup for an Analog-to-Digital Converter (ADC) and a Digital-to-Analog Converter (DAC).\n",
    "\n",
    "<img style=\"width: 500px\" src=\"http://inst.eecs.berkeley.edu/~ee16b/fa15/lab_pics/adc-dac.png\">\n",
    "\n",
    "In this lab, we will focus on going from an analog signal to a digital one using our Launchpads as an ADC. The ADC uses the process of sampling to discretize the data, allowing us to store individual points rather than a continuous wave. As was (or shortly will be) discussed in lecture, this process can cause certain problems (aliasing, etc), but we won't worry about them for now.\n",
    "\n",
    "Our goal in this module is to build the <b>Signal Conditioning</b> block in the top row above. Although the voltages we get from the brain are analog signals, they are very <i>very</i> small, usually in the order of ~1$\\mu$V. We need to provide some amplification and filtering such that our signal is within the acceptable range for our ADC input. The block diagram of the circuit we will implement in this module is shown below.\n",
    "\n",
    "<img style=\"width: 750px\" src=\"http://inst.eecs.berkeley.edu/~ee16b/fa15/lab_pics/fe-block.png\">\n",
    "\n",
    "As we progress through this module, we will see how each block above is needed by trying to use the Launchpad ADC at every stage. We will also try using both sinusoids and a simulated Local Field Potential (LFP) BMI signal from the first BMI lab to explore how real-world conditions can cause added complications.\n",
    "\n",
    "This week, we will build a set of amplifiers that we will slowly build up from as we encounter different issues. <b>As you can see above, the circuit we will be building is quite complicated. Please try to be very neat and plan ahead in your breadboard layout.</b> It is best to start at one edge of the breadboard and work inward to ensure there is enough space for all of the different blocks.\n",
    "\n",
    "### <span style=\"color:green\">IMPORTANT: KEEP THE CIRCUIT IN THIS LAB FOR NEXT LAB</span>\n",
    "Seriously, keep the circuit! Otherwise you will have to rebuild everything again next week.\n",
    "\n",
    "Before we get buiding, take a second to review the debugging lab we worked through last week, particularly the techniques for finding bugs in your circuit. The amplifiers we will be building have many parts, so finding the error may be difficult."
   ]
  },
  {
   "cell_type": "markdown",
   "metadata": {},
   "source": [
    "<a id='task0'></a>\n",
    "## <span style=\"color:blue\">Task 0: Test Signal Setup</span>\n",
    "\n",
    "### Materials\n",
    "- Function generator + cable\n",
    "- 1 1M$\\Omega$ resistor\n",
    "- 1 100$\\Omega$ resistor\n",
    "- Breadboard\n",
    "- Oscilloscope + 2 probes"
   ]
  },
  {
   "cell_type": "markdown",
   "metadata": {},
   "source": [
    "To test our signal conditioning, we will eventually provide some BMI waveform in a loop through the function generator. Recall that a real BMI signal is around 1$\\mu$V. Our function generators are only capable of producing signals of amplitude in the order of 10mV, so we will need to divide down the generator test signal with a resistive divider. \n",
    "\n",
    "Build a ~1:10000 resistive divider in one end of your breadboard. For this module, we will be treating the signal from the function generator as a <b> differential </b> signal (ie: we care about the difference of the voltages in the 2 terminals, not the absolute value). It is very important that you <b>DO NOT CONNECT ANY NODE OF THE DIVIDER TO THE GROUND RAIL</b> of your breadboard. The figure below may prove helpful:\n",
    "<img style=\"width: 450px\" src=\"http://inst.eecs.berkeley.edu/~ee16b/sp16/lab_pics/fe-res-divider.png\">"
   ]
  },
  {
   "cell_type": "markdown",
   "metadata": {},
   "source": [
    "**<span style=\"color:red\">If we supply a signal with 100mV amplitude, what is the output amplitude?</span>**\n",
    "\n",
    "YOUR ANSWER HERE\n",
    "\n",
    "**<span style=\"color:red\">Test your resistive divider by inputting 25V in the input. Use a digital multimeter as a voltmeter to measure the output voltage - make sure it is around 2.5mV.</span>**"
   ]
  },
  {
   "cell_type": "markdown",
   "metadata": {},
   "source": [
    "This week, we will use a signal 10 times larger that what it is supposed to be. This will make it is easier to debug and see the signal without too much amplification, but still leaves enough room to make sure that the amplifiers are working properly. Thus, we will use a 1Vpp (volt peak-to-peak) signal from the function generator. Next week we will reduce this to 0.1Vpp.\n",
    "\n",
    "For easier debugging, we will be using perfect sinusoid signals in the first 2 labs. The real BMI signal that we will use in the third lab looks like noise without proper filtering and treatment so it is easier to check whether your circuit works as expected. For this lab, <b>use the function generator to produce a sine wave</b> with the following parameters:\n",
    "- Frequency: <b>1 kHz</b>\n",
    "- Amplitude: <b>1 Vpp</b>\n",
    "- Offset: <b>0 V</b>\n",
    "\n",
    "Just as last week's lab, <b>make sure the function generator is set to HIGH IMPEDANCE (High Z).</b> You should use the oscilloscope by connecting it directly to the function generator to make sure the function generator is producing the sinusoid as expected. Check that the difference between the highest point and lowest point in the sinusoid is 1V. After you connect the function generator to the resistive divider, probe the output of the resistive divider - you should find that the signal is so small you can't even see it with an oscilloscope!\n",
    "\n",
    "As you can imagine, we need a lot of amplification. The series of amplifiers we will build today is shown below:\n",
    "\n",
    "<img style=\"width: 750px\" src=\"http://inst.eecs.berkeley.edu/~ee16b/fa15/lab_pics/fe-block-1.png\">\n",
    "\n",
    "Note that there is a gap between the instrumentation amplifier and the non-inverting amps - we will be putting a mystery circuit here next week!"
   ]
  },
  {
   "cell_type": "markdown",
   "metadata": {},
   "source": [
    "<a id='task1'></a>\n",
    "## <span style=\"color:blue\">Task 1: Non-inverting Amplifiers</span>\n",
    "\n",
    "### Materials\n",
    "- Task 0 Setup\n",
    "- 1 <a href=\"http://www.ti.com/lit/ds/symlink/lmc6482.pdf\">LMC6482</a> Dual Op-amp\n",
    "- resistors"
   ]
  },
  {
   "cell_type": "markdown",
   "metadata": {},
   "source": [
    "To ease into this module, we will start with some simple amplifiers. Looking at the block diagram above, we can see that we will be utilizing three seperate amplifiers: an instrumentation amplifier, and two non-inverting amplifiers. We would like to build the circuit in separate gain stages so we can modify each stage later to perform some signal conditioning. For now, we will build two non-inverting amps using 1 op-amp chip. Build:\n",
    "- a non-inverting amplifier with a gain of 10\n",
    "- a non-inverting amplifier with a gain of ???\n",
    "\n",
    "<b>Make sure to leave some space between these and the voltage divider (ie: build on the right side of the bread board) for the instrumentational amplifier.</b> We will also add a mystery circuit in the blank space right after the instrumentation amplifier, so leave space there as well.\n",
    "\n",
    "**<span style=\"color:red\">Compute the last amplifier gain assuming our input signal after divider is 10$\\mu V$ and we want an output swing of 3V.</span>** Recall that the gain for a non-inverting amplifier can be found as: \n",
    "$$A_v = \\frac{R_1 + R_2}{R_1}$$\n",
    "\n",
    "You may find the block diagram above with the gains labeled helpful. Remember that we have 3 stages of amplification to get to the 3V output signal."
   ]
  },
  {
   "cell_type": "markdown",
   "metadata": {},
   "source": [
    "**<span style=\"color:red\"> What resistor values did you pick for each of the non-inverting amplifiers?</span>**\n",
    "\n",
    "YOUR ANSWER HERE"
   ]
  },
  {
   "cell_type": "markdown",
   "metadata": {},
   "source": [
    "Now that we have determined the values of the resistors we will need to build the amps, we need to know the pin layout of the op amp chip. Read the documentation <a href=\"http://www.ti.com/lit/ds/symlink/lmc6482.pdf\">here</a>, and use the figure below determine input, ouptut, and power pins.\n",
    "\n",
    "<img style=\"width:400px\" src=\"http://inst.eecs.berkeley.edu/~ee16b/fa15/lab_pics/opamp-pins.png\">\n",
    "<b> Some things to remember: </b>\n",
    "- Use +/- 5V for the supply voltages of the op-amp\n",
    "- <b>DO NOT FORGET TO SET A CURRENT LIMIT (~0.1 A)</b>"
   ]
  },
  {
   "cell_type": "markdown",
   "metadata": {},
   "source": [
    "<b>Test each circuit individually</b>: \n",
    "\n",
    "Use the function generator to generate a sinusoid with reasonable amplitude (e.g. 100mV), feed it to the first non-inverting amplifier (the positive terminal goes to the input of the amplifier and the negative terminal goes to the ground rail) and use the oscilloscope to see if the output is what you expected. It should resemble the image below. Make sure to probe both the input and the output - the output should be around 10 times greater. \n",
    "\n",
    "<img style=\"width:600px\" src=\"http://inst.eecs.berkeley.edu/~ee16b/sp16/lab_pics/fe-noninverting-amp.png\">\n",
    "\n",
    "Once you have the first amplifier working, do the same thing just for the second non-inverting amplifier."
   ]
  },
  {
   "cell_type": "markdown",
   "metadata": {},
   "source": [
    "**<span style=\"color:red\">Use the oscilloscope to record the actual gain of each amplifier. What are they, and how do they compare to the calculated gains?</span>**\n",
    "\n",
    "YOUR ANSWER HERE\n",
    "\n",
    "**<span style=\"color:red\">What should you do if the output 'clips' (flat spots on top/bottom of the sinusoid)?</span>**\n",
    "\n",
    "YOUR ANSWER HERE"
   ]
  },
  {
   "cell_type": "markdown",
   "metadata": {},
   "source": [
    "<a id='task2'></a>\n",
    "## <span style=\"color:blue\">Task 2: Instrumentation Amplifier</span>\n",
    "\n",
    "### Materials\n",
    "- Task 0, 1 setup\n",
    "- 2 <a href=\"http://www.ti.com/lit/ds/symlink/lmc6482.pdf\">LMC6482</a> Dual Op-amp\n",
    "- 2 100k$\\Omega$ resistors\n",
    "- 3 10k$\\Omega$ resistors\n",
    "- 2 250k$\\Omega$ resistors"
   ]
  },
  {
   "cell_type": "markdown",
   "metadata": {},
   "source": [
    "Now that we have built some simple amplifiers, lets get started on the instrumentation amplifier. Because the signal is so small, we will have to amplify it by several orders of magnitude in order to apply the appropriate signal processing. Therefore, we will first send our signal through an instrumentation amplifier. An instrumentation amplifier takes a differential input (2-terminal input) and has a single-ended output.\n",
    "\n",
    "<img style=\"width:450px\" src=\"http://inst.eecs.berkeley.edu/~ee16b/fa15/lab_pics/fe-instr-amp.png\">\n",
    "\n",
    "From Homework 5, recall that an instrumentation amplifier relates its input and output as follows:\n",
    "$$\\frac{V_{out}}{V_p -V_n} = - \\Big{(}1 + \\frac{2R_2}{R_1}\\Big{)}\\Big{(}\\frac{R_4}{R_3}\\Big{)}$$\n"
   ]
  },
  {
   "cell_type": "markdown",
   "metadata": {},
   "source": [
    "**<span style=\"color:red\">If $R_1 = R_3 = 10k\\Omega, R_2 = 100k\\Omega, R_4 = 250k\\Omega$, what is the overall gain?</span>**\n",
    "\n",
    "YOUR ANSWER HERE"
   ]
  },
  {
   "cell_type": "markdown",
   "metadata": {},
   "source": [
    "Now build your instrumentation amplifier using the <a href=\"http://www.ti.com/lit/ds/symlink/lmc6482.pdf\">LMC6482</a> op-amps. <b>DO NOT FORGET TO SET THE CURRENT LIMIT. There are 2 $250k\\Omega$ resistors in your packet that do not look like regular resistors - they are big and brown in color with the writing `2503F`.</b>\n",
    "\n",
    "<b>TEST EARLY AND TEST OFTEN!!</b>\n",
    "The best way to build a successful instrumentation amplifier is to build it in blocks: each non-inverting amp and the differential amp. Be sure to test each stage to ensure they are behaving as expected. Use the function generator to create a sinusoid of appropriate amplitude (think about the gain!) and the oscilloscope to make sure the gain is correct.\n",
    "\n",
    "Once you are satisfied that all of the pieces work together, connect the $V_p$ input terminal of the instrumentation amplifier to the middle node of the voltage divider we made earlier and the $V_n$ input to the negative lead of the function generator (refer to the resistive divider above). Use the oscilloscope to make sure the output looks similar to the waveform below. Notice that the gain is not as expected because we have a noisy signal. There is a way to average the noise out but we will not bother about it right now. Also note that there is an offset in the output voltage - it does not center around 0V! We will fix this in the next lab.\n",
    "\n",
    "<img style=\"width:600px\" src=\"http://inst.eecs.berkeley.edu/~ee16b/sp16/lab_pics/fe-instr-amp.png\">"
   ]
  },
  {
   "cell_type": "markdown",
   "metadata": {},
   "source": [
    "**<span style=\"color:red\">What do you notice about the two waveforms? Does this make sense?</span>**\n",
    "\n",
    "YOUR ANSWER HERE\n",
    "\n",
    "**<span style=\"color:red\">Checkoff: Show your GSI the output of the instrumentation amplifier.</span>**\n",
    "\n",
    "Remember that the test signal right now is 10 times larger than what it's supposed to be! <b>Change the amplitude parameter of the function generator to 100mVpp</b> and probe the output again. We still need a lot of gain!"
   ]
  },
  {
   "cell_type": "markdown",
   "metadata": {},
   "source": [
    "<a id='task3'></a>\n",
    "## <span style=\"color:blue\">Task 3: Putting it All Together (sort of)</span>\n"
   ]
  },
  {
   "cell_type": "markdown",
   "metadata": {},
   "source": [
    "Now connect these amplifiers together in a cascade as seen in the block diagram below.\n",
    "\n",
    "<img style=\"width: 750px\" src=\"http://inst.eecs.berkeley.edu/~ee16b/sp16/lab_pics/FE_Blocks.png\">\n",
    "\n",
    "Change your function generator to output a sinusoid with the parameters below:\n",
    "- Frequency: <b>1 kHz</b>\n",
    "- Amplitude: <b>100 mVpp</b>\n",
    "- Offset: <b>0 V</b>\n",
    "\n",
    "Probe the output of the last non-inverting amplifier. (Don't freak out if you don't see a nice waveform - or any waveform at all...)"
   ]
  },
  {
   "cell_type": "markdown",
   "metadata": {},
   "source": [
    "**<span style=\"color:red\">What problem do you see? Why does this happen? How can we potentially solve this issue?</span>** Hint: What happens to the voltage offset of your instrumentation amplifier?\n",
    "\n",
    "YOUR ANSWER HERE"
   ]
  },
  {
   "cell_type": "markdown",
   "metadata": {},
   "source": [
    "The output waveform right now is railing or clipping If we were to connect this to our Launchpad ADC, the Launchpad pin would be burnt! We need to find a solution for this issue in the next lab."
   ]
  },
  {
   "cell_type": "markdown",
   "metadata": {},
   "source": [
    "### <span style=\"color:green\">IMPORTANT: KEEP THE CIRCUIT IN THIS LAB FOR NEXT LAB</span>\n",
    "\n",
    "Now you have a large amplification, but you still can't get the Launchpad ADC to sample the voltage levels nicely. We will continue to refine our signal processing chain next week."
   ]
  }
 ],
 "metadata": {
  "kernelspec": {
   "display_name": "Python 3",
   "language": "python",
   "name": "python3"
  },
  "language_info": {
   "codemirror_mode": {
    "name": "ipython",
    "version": 3
   },
   "file_extension": ".py",
   "mimetype": "text/x-python",
   "name": "python",
   "nbconvert_exporter": "python",
   "pygments_lexer": "ipython3",
   "version": "3.4.3"
  }
 },
 "nbformat": 4,
 "nbformat_minor": 0
}
