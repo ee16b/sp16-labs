{
 "cells": [
  {
   "cell_type": "markdown",
   "metadata": {},
   "source": [
    "# BMI Lab 2: Frequency Analysis\n",
    "\n",
    "### EE 16B: Designing Information Devices and Systems II, Spring 2016"
   ]
  },
  {
   "cell_type": "markdown",
   "metadata": {},
   "source": [
    "**Name 1**:\n",
    "\n",
    "**Login**: ee16b-\n",
    "\n",
    "\n",
    "**Name 2**:\n",
    "\n",
    "**Login**: ee16b-"
   ]
  },
  {
   "cell_type": "markdown",
   "metadata": {},
   "source": [
    "\n",
    "## Table of Contents\n",
    "\n",
    "* [Instructions](#instructions)\n",
    "* [Lab Policies](#policies)\n",
    "* [Introduction](#intro)\n",
    "* [Task 1: Converting to Frequency](#task1)\n",
    "* [Task 2: Finding a Frequency Window](#task2)\n",
    "* [Task 3: Predicting Movement](#task3)\n",
    "* [Additional Resources](#extra)"
   ]
  },
  {
   "cell_type": "markdown",
   "metadata": {},
   "source": [
    "<a id='instructions'></a>\n",
    "Instructions\n",
    "* Complete this lab by filling in all of the required sections, marked with `\"YOUR CODE HERE\"` or `\"YOUR COMMENTS HERE\"`.\n",
    "\n",
    "\n",
    "* When you finish notify your GSI to get get checked off for this lab. Be ready to answer a few questions to show your understanding of each section.\n",
    "\n",
    "\n",
    "* Labs will be graded based on completion for teams of 2 students.\n",
    "\n",
    "\n"
   ]
  },
  {
   "cell_type": "markdown",
   "metadata": {},
   "source": [
    "<a id='policies'></a>\n",
    "## Lab Policies\n",
    "* YOU MUST ATTEND THE LAB SECTION YOU ARE ENROLLED IN. If you anticipate missing a section please notify your GSI in advance.\n",
    "\n",
    "* You are required to return all parts checked out at the beginning of the lab section unless told otherwise.\n",
    "\n",
    "* ** Food and drinks are not allowed in the lab.**\n",
    "\n",
    "* **Clean up, turn off all equipment, and log off of computers before leaving.**"
   ]
  },
  {
   "cell_type": "markdown",
   "metadata": {},
   "source": [
    "<a id='intro'></a>\n",
    "## Introduction\n",
    "Welcome back for the second lab on brain-machine images! In this lab we will be using a simulated time domain signal of a subject whose brain waves were recorded while moving a cursor around on a computer screen.\n",
    "\n",
    "<a id='overview'></a>\n",
    "### Lab Overview\n",
    "The ability to convert from the time domain to the frequency domain is a crucial skill in signal processing because while some data might not look particularly useful in the time domain, seeing it in the frequency domain may shed some insight. The analysis of brain waves is a real world application of this domain conversion; researchers have been able to tie brain activity to the actual movement of a primate using complciated analysis in the freqeuncy domain. In this lab we will do some simple analysis of our own to predict some basic actions performed by a subject through looking at its brain signals in frequency domain."
   ]
  },
  {
   "cell_type": "markdown",
   "metadata": {},
   "source": [
    "<a id='task1'></a>\n",
    "## <span style=\"color:blue\">Task 1: Converting to Frequency</span>\n",
    "\n",
    "The file `sinewave.csv` contains points of a sinusoid; the first column is the time while the second column is the data. Fill in the functions `plotTimeSignal`, `timeToFreq` and `freqPlot` to plot the time signal, and then convert the data into the frequency domain.\n",
    "\n",
    "<b>Sanity check:</b> If the data contains a single sinusoid, what does its frequency domain plot look like?"
   ]
  },
  {
   "cell_type": "code",
   "execution_count": null,
   "metadata": {
    "collapsed": true
   },
   "outputs": [],
   "source": [
    "# Import packages\n",
    "import csv\n",
    "import numpy as np\n",
    "import matplotlib.pyplot as plt\n",
    "from pylab import *\n",
    "\n",
    "# Display plots in the notebook\n",
    "%matplotlib inline"
   ]
  },
  {
   "cell_type": "code",
   "execution_count": null,
   "metadata": {
    "collapsed": false
   },
   "outputs": [],
   "source": [
    "def readCsv(filename):\n",
    "    \"\"\" Reads CSV files for time domain data.\n",
    "    Parameters:\n",
    "        filename: csv filename\n",
    "    Returns: out[0] is a list of timestamps, out[1] is the data\n",
    "    \"\"\"\n",
    "    if (filename[-4:] != \".csv\"):\n",
    "        print(\"Invalid csv file: \" + filename)\n",
    "        return ([], [])\n",
    "    waveform = csv.reader(open(filename, \"r\", newline='\\n'))\n",
    "    waveformdata = [row for row in waveform]\n",
    "    time = [double(row[0]) for row in waveformdata]       # array of timestamps\n",
    "    data = [double(row[1]) for row in waveformdata]       # array of corresponding data\n",
    "    return (time, data)"
   ]
  },
  {
   "cell_type": "code",
   "execution_count": null,
   "metadata": {
    "collapsed": false
   },
   "outputs": [],
   "source": [
    "def plotTimeSignal(time, data, title=None):\n",
    "    \"\"\" Plot the signal in the Time Domain.\n",
    "    Parameters:\n",
    "        time: List of timestamps corresponding to data\n",
    "        data: List containing data to plot\n",
    "        title: Title of data\n",
    "    \"\"\"    \n",
    "    # YOUR CODE HERE #\n",
    "    \n",
    "    \n",
    "    if(title != None):\n",
    "        plt.title(\"Time domain signal of \" + title)\n",
    "    plt.xlabel('Time (sec)')\n",
    "    plt.ylabel('Signal')\n",
    "\n",
    "    \n",
    "def timeToFreq(data):\n",
    "    \"\"\" Convert time domain data into frequency domain data.\n",
    "    Parameters: \n",
    "        data: Time domain data\n",
    "    Returns: Magnitude of frequencies in the Discrete Fourier Transform of data\n",
    "    Hint: You may find the numpy function fft.rfft useful.\n",
    "    \"\"\"\n",
    "    # YOUR CODE HERE #\n",
    "    \n",
    "    \n",
    "    \n",
    "def freqPlot(data, fs, title, start=None, end=None):\n",
    "    \"\"\" Plot the frequency spectrum of the data using the function timeToFreq. Plot only the positive\n",
    "    frequencies (why can we do this?)\n",
    "    Parameters:\n",
    "        data: Time domain data\n",
    "        fs  : Sampling frequency\n",
    "        title: Title of data\n",
    "        start: Start of X-axis range\n",
    "        end: End of X-axis range\n",
    "    Returns: None\n",
    "    Hint1: Dont forget to correctly convert your time domain signal into frequency domain\n",
    "    Hint2: When converting the time steps to frequency steps you may find the function np.linspace to be useful\n",
    "    Hint3: Read the Notes of the documentation for fft.rfft carefully to find the range of frequencies\n",
    "    \"\"\"    \n",
    "    # YOUR CODE HERE #\n",
    "    \n",
    "    \n",
    "    if(title != None):\n",
    "        plt.title('Frequency spectrum of ' + title)\n",
    "    plt.xlabel('Frequency (Hz)')\n",
    "    plt.ylabel('Magnitude')\n",
    "    \n",
    "    if (start != None or end != None):\n",
    "        plt.xlim(start, end)\n",
    "    \n",
    "    \n",
    "def samplingFreq(time):\n",
    "    \"\"\" Finds the sampling frequency\n",
    "    Parameters:\n",
    "        time: A list of evenly-spaced timestamps (in seconds)\n",
    "    Returns: Sampling frequency in Hz\n",
    "    Hint: 1 Hz = 1 cycle/second\n",
    "    \"\"\"\n",
    "    # YOUR CODE HERE #\n",
    "    "
   ]
  },
  {
   "cell_type": "code",
   "execution_count": null,
   "metadata": {
    "collapsed": false
   },
   "outputs": [],
   "source": [
    "# Read from sinewave.csv      \n",
    "(sineTime, sineData) = readCsv(\"sinewave.csv\")\n",
    "fs = samplingFreq(sineTime)                           # Sampling frequency"
   ]
  },
  {
   "cell_type": "code",
   "execution_count": null,
   "metadata": {
    "collapsed": false
   },
   "outputs": [],
   "source": [
    "plt.figure(figsize=(10, 4))\n",
    "plotTimeSignal(sineTime, sineData, \"Sine Wave\")\n",
    "plt.figure(figsize=(10, 4))\n",
    "freqPlot(sineData, fs, \"Sine Wave\")"
   ]
  },
  {
   "cell_type": "markdown",
   "metadata": {},
   "source": [
    "**<span style=\"color:red\">What frequency is the sine wave?</span>** \n",
    "\n",
    "(Hint: Use the function `np.argmax()` to find the index of the largest entry in a list)"
   ]
  },
  {
   "cell_type": "code",
   "execution_count": null,
   "metadata": {
    "collapsed": false
   },
   "outputs": [],
   "source": [
    "# YOUR CODE HERE #\n",
    "\n",
    "print(\"Frequency of sine wave: \" + str('') + \" Hz\")"
   ]
  },
  {
   "cell_type": "markdown",
   "metadata": {},
   "source": [
    "**<span style=\"color:red\">How do the frequency and time plot differ?</span>**\n",
    "\n",
    "YOUR COMMENTS HERE\n"
   ]
  },
  {
   "cell_type": "markdown",
   "metadata": {},
   "source": [
    "<a id='task2'></a>\n",
    "##<span style=\"color:blue\">Task 2: Finding a Frequency Window</span>\n",
    "\n",
    "The magnitude plot of the frequency domain may give us a better perspective of the data than time domain data, but if we calculate the energy of each frequency in the signal the differences in magnitude is amplified.\n",
    "\n",
    "In the block below use the functions you wrote above to compute the energy of the signal at a certain range of frequencies (don't worry about the scaling - in general, how do we compute energy when we have the magnitude?) \n",
    "\n",
    "We have provided the function `freqToIndex` which finds the index of a frequency given a list of frequencies."
   ]
  },
  {
   "cell_type": "code",
   "execution_count": null,
   "metadata": {
    "collapsed": true
   },
   "outputs": [],
   "source": [
    "def freqToIndex(freqList, freq):\n",
    "    \"\"\" Finds where a frequency is in a list of frequencies\n",
    "    Parameters:\n",
    "        freqList: A list of frequencies\n",
    "        freq: The frequency in question\n",
    "    Returns: The index of the frequency in the list\n",
    "    \"\"\"\n",
    "    for i in range(len(freqList)):\n",
    "        if freq <= freqList[i]:\n",
    "            return i\n",
    "    return len(freqList)-1"
   ]
  },
  {
   "cell_type": "code",
   "execution_count": null,
   "metadata": {
    "collapsed": true
   },
   "outputs": [],
   "source": [
    "def computeEnergy(data, fs, start_freq=0, end_freq=0): \n",
    "    \"\"\" Convert the time data into frequency domain then compute its total energy between \n",
    "    start_freq and end_freq (add together the energy of all of the frequencies)\n",
    "    Parameters: \n",
    "        data: Time domain data\n",
    "        fs: The sampling frequency of the data\n",
    "        start_freq: the starting frequency\n",
    "        end_freq: the ending frequency\n",
    "    Returns: Energy of the signal between the bound frequencies\n",
    "    Note: If end_freq==0, use the largest frequency possible\n",
    "    Hint: The helper function freqToIndex would be useful to find what part of the list you should compute\n",
    "    \"\"\"  \n",
    "    # YOUR CODE HERE #\n",
    "    freqList = # List of frequencies\n",
    "    \n",
    "    if (end_freq == 0):\n",
    "        end_freq = freqList[-1] # If end_freq is 0, use the largest frequency possible from the DFT\n",
    "        \n",
    "    # YOUR CODE HERE #\n",
    "    \n",
    "    return "
   ]
  },
  {
   "cell_type": "markdown",
   "metadata": {},
   "source": [
    "It would also be nice to see the energy plot of the signal in the frequency domain. Complete the function below to do that. Note that you should <b>not</b> use the computeEnergy function here since that function returns the sum of the energy at a range of frequencies."
   ]
  },
  {
   "cell_type": "code",
   "execution_count": null,
   "metadata": {
    "collapsed": true
   },
   "outputs": [],
   "source": [
    "def energyPlot(data, fs, title, start=None, end=None):\n",
    "    \"\"\" Plot the energy of the frequency spectrum of the data using the function timeToFreq.\n",
    "    Parameters:\n",
    "        data: Time domain data\n",
    "        fs  : Sampling frequency\n",
    "        title: Title of data\n",
    "        start: Start of X-axis range\n",
    "        end: End of X-axis range\n",
    "    Returns: None\n",
    "    Note: Do NOT use computeEnergy since that function returns the sum of the energy in a range of frequencies\n",
    "    \"\"\"    \n",
    "    # YOUR CODE HERE #\n",
    "    \n",
    "    \n",
    "    if(title != None):\n",
    "        plt.title('Frequency spectrum of ' + title)\n",
    "    plt.xlabel('Frequency (Hz)')\n",
    "    plt.ylabel('Energy')\n",
    "    \n",
    "    if (start != None or end != None):\n",
    "        plt.xlim(start, end)"
   ]
  },
  {
   "cell_type": "markdown",
   "metadata": {},
   "source": [
    "Let's first see the signal we're working with in the time domain"
   ]
  },
  {
   "cell_type": "code",
   "execution_count": null,
   "metadata": {
    "collapsed": false
   },
   "outputs": [],
   "source": [
    "# The two data have the same timestamps\n",
    "(movingTime, movingData) = readCsv(\"moving.csv\")\n",
    "(notMovingTime, notMovingData) = readCsv(\"notMoving.csv\")\n",
    "\n",
    "plt.figure(figsize=(9, 4))\n",
    "plotTimeSignal(movingTime, movingData, \"Moving Subject\")\n",
    "plt.figure(figsize=(9, 4))\n",
    "plotTimeSignal(notMovingTime, notMovingData , \"Not Moving Subject\")"
   ]
  },
  {
   "cell_type": "markdown",
   "metadata": {},
   "source": [
    "Nothing much we can conclude there... How about plotting their energy in the frequency domain?"
   ]
  },
  {
   "cell_type": "code",
   "execution_count": null,
   "metadata": {
    "collapsed": false
   },
   "outputs": [],
   "source": [
    "fs = samplingFreq(movingTime)     # Sampling frequency is the same for all data in this task\n",
    "startFreq = 0                     # Plot between 0 and 100Hz\n",
    "endFreq = 100\n",
    "\n",
    "plt.figure(figsize=(9, 4))\n",
    "energyPlot(movingData, fs, None, startFreq, endFreq)\n",
    "energyPlot(notMovingData, fs, None, startFreq, endFreq)\n",
    "plt.title('Energy of recorded signal')\n",
    "plt.legend(['Moving Subject', 'Not Moving Subject'])"
   ]
  },
  {
   "cell_type": "markdown",
   "metadata": {},
   "source": [
    "Now use the functions you wrote before to find a <b>frequency window of 30Hz</b> that you can use to identify whether the subject is moving or not moving. We have provided you with 2 sample brain wave recordings, one for a moving subject and one for a non-moving subject. You would have to experiment to find the window with the most energy difference between 0 and 100Hz."
   ]
  },
  {
   "cell_type": "code",
   "execution_count": null,
   "metadata": {
    "collapsed": false
   },
   "outputs": [],
   "source": [
    "def findMaxEnergyDiff(data1, data2, window_size, start_freq, end_freq, step_freq, fs):\n",
    "    \"\"\" Find the window of frequencies that has the maximum energy difference.\n",
    "    Parameters:\n",
    "        data1: One of the data arrays to compare (in time domain)\n",
    "        data2: The other data array to compare (in time domain)\n",
    "        window_size: The window size in Hz\n",
    "        start_freq: The starting frequency in Hz\n",
    "        end_freq: The ending frequency in Hz\n",
    "        step_freq: The step size in Hz\n",
    "        fs: Sampling frequency\n",
    "    Returns: The starting frequency of the frequency window that has the maximum energy difference based on 2-norm\n",
    "    Hint1: np.array.argmax() returns the index of the maximum value in an array\n",
    "    Hint2: Use the computeEnergy function you wrote later\n",
    "    \"\"\"\n",
    "    diff = []\n",
    "    for f in range(int(start_freq), int(end_freq-window_size)+1, int(step_freq)):\n",
    "        \n",
    "        # YOUR CODE HERE #\n",
    "        \n",
    "        print(\"Energy difference in \" + str(f) + \" to \" + str(f+window_size) + \" Hz: \" + str(d))\n",
    "        \n",
    "    return # YOUR CODE HERE #"
   ]
  },
  {
   "cell_type": "code",
   "execution_count": null,
   "metadata": {
    "collapsed": false
   },
   "outputs": [],
   "source": [
    "minFreq = 0     # The minimum frequency (Hz)\n",
    "maxFreq = 100   # The maximum frequency (Hz)\n",
    "window = 30     # The frequency window size (Hz)\n",
    "freqStep = 5    # Granularity of search (Hz)\n",
    "\n",
    "optimalFreq = findMaxEnergyDiff(movingData, notMovingData, window, minFreq, maxFreq, freqStep, fs)\n",
    "\n",
    "# Plot frequency spectrum of the window\n",
    "startFreq = optimalFreq\n",
    "endFreq = optimalFreq + window\n",
    "\n",
    "plt.figure(figsize=(9, 4))\n",
    "energyPlot(movingData, fs, None, startFreq, endFreq)\n",
    "energyPlot(notMovingData, fs, None, startFreq, endFreq)\n",
    "plt.legend(['Moving Subject', 'Not Moving Subject'])"
   ]
  },
  {
   "cell_type": "markdown",
   "metadata": {},
   "source": [
    "**<span style=\"color:red\">What frequency window had the largest energy difference?</span>**\n",
    "\n",
    "YOUR COMMENTS HERE\n",
    "\n",
    "**<span style=\"color:red\">Did plotting the moving and notMoving data in the time domain give any way to differentiate one from the other? </span>**\n",
    "\n",
    "YOUR COMMENTS HERE\n",
    "\n",
    "**<span style=\"color:red\">Did plotting the energy of the moving and notMoving data in the frequency domain give any way to differentiate one from the other?</span>**\n",
    "\n",
    "YOUR COMMENTS HERE"
   ]
  },
  {
   "cell_type": "markdown",
   "metadata": {},
   "source": [
    "<a id='task3'></a>\n",
    "## <span style=\"color:blue\">Task 3: Predicting Movement</span>\n",
    "\n",
    "Using the functions we made above, we are now going to apply them to data sets and try to determine some basic primate actions.\n",
    "\n",
    "We have given you two data sets `movingData` and `notMovingData` from before. In the block below look at the difference in energy in the frequency window you have determined before, then predict whether the primate is moving or not moving in the 4 mystery data sets. It might also be useful to print out the value of the sum of energy in that frequency window (i.e. the result of the function `computeEnergy`)."
   ]
  },
  {
   "cell_type": "code",
   "execution_count": null,
   "metadata": {
    "collapsed": false
   },
   "outputs": [],
   "source": [
    "(mystery1Time, mystery1Data) = readCsv(\"mysteryData1.csv\")\n",
    "(mystery2Time, mystery2Data) = readCsv(\"mysteryData2.csv\")\n",
    "(mystery3Time, mystery3Data) = readCsv(\"mysteryData3.csv\")\n",
    "(mystery4Time, mystery4Data) = readCsv(\"mysteryData4.csv\")\n",
    "\n",
    "# YOUR CODE HERE #"
   ]
  },
  {
   "cell_type": "markdown",
   "metadata": {},
   "source": [
    "**<span style=\"color:red\">Now can you guess whether the subject was moving or not for...</span>**\n",
    "\n",
    "**<span style=\"color:red\">mysteryData1? </span>**\n",
    "\n",
    "YOUR COMMENTS HERE\n",
    "\n",
    "**<span style=\"color:red\">mysteryData2? </span>**\n",
    "\n",
    "YOUR COMMENTS HERE\n",
    "\n",
    "**<span style=\"color:red\">mysteryData3? </span>**\n",
    "\n",
    "YOUR COMMENTS HERE\n",
    "\n",
    "**<span style=\"color:red\">mysteryData4? </span>**\n",
    "\n",
    "YOUR COMMENTS HERE\n"
   ]
  },
  {
   "cell_type": "markdown",
   "metadata": {},
   "source": [
    "<a id='extra'></a>\n",
    "## Additional Resources\n",
    "Congratulations, you can now predict whether a subject is moving or not just from looking at brain signals!\n",
    "There are all kinds of exciting things you can do with this analysis technique. Once you have the time signal of something your first instinct should always be to check it frequency domain for useful data.\n",
    "\n",
    "If you're interested applying what you've learned to your own personal projects there are a variety of spaces on campus with additional resources to support these kinds of activities: \n",
    "* [Supernode (246 Cory Hall)](http://supernode.berkeley.edu/index.php?title=Main_Page)\n",
    "* [CITRIS Invention Lab (141 Sutardja Dai Hall)](http://invent.citris-uc.org)\n",
    "* [Jacobs Hall](http://engineeringdesign.berkeley.edu/jacobs-hall/)"
   ]
  }
 ],
 "metadata": {
  "celltoolbar": "Raw Cell Format",
  "kernelspec": {
   "display_name": "Python 3",
   "language": "python",
   "name": "python3"
  },
  "language_info": {
   "codemirror_mode": {
    "name": "ipython",
    "version": 3
   },
   "file_extension": ".py",
   "mimetype": "text/x-python",
   "name": "python",
   "nbconvert_exporter": "python",
   "pygments_lexer": "ipython3",
   "version": "3.4.4"
  }
 },
 "nbformat": 4,
 "nbformat_minor": 0
}
