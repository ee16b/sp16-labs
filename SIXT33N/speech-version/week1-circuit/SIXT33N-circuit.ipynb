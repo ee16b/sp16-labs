{
 "cells": [
  {
   "cell_type": "markdown",
   "metadata": {},
   "source": [
    "# SIXT33N Project\n",
    "## Phase 1: Microphone Front End\n",
    "\n",
    "### EE 16B: Designing Information Devices and Systems II, Spring 2016\n",
    "\n",
    "Written by Nathaniel Mailoa and Emily Naviasky (2016)\n",
    "\n",
    "nmailoa@berkeley.edu &emsp; enaviasky@berkeley.edu"
   ]
  },
  {
   "cell_type": "markdown",
   "metadata": {},
   "source": [
    "**Name 1**:\n",
    "\n",
    "**Login**: ee16b-\n",
    "\n",
    "\n",
    "**Name 2**:\n",
    "\n",
    "**Login**: ee16b-"
   ]
  },
  {
   "cell_type": "markdown",
   "metadata": {},
   "source": [
    "\n",
    "## Table of Contents\n",
    "\n",
    "* [Introduction](#intro)\n",
    "* [Part 1: Microphone Front End](#part1)\n",
    "* [Part 2: Gain and Filter](#part2)\n",
    "* [Part 3: Speech Data Collection](#part3)"
   ]
  },
  {
   "cell_type": "markdown",
   "metadata": {},
   "source": [
    "<a id='intro'></a>\n",
    "## Introduction\n",
    "\n",
    "For the rest of this semester you will be designing SIXT33N, a mischevious little robot who might just do what you want if you design it correctly. The other half of your team will be working on designing an algorithm to distinguish and interpret input, but it is up to you to obtain that input first. In this phase you will be desiging SIXT33N's ears. You will need a microphone front end circuit that processes the mic signal into something you can record using the Launchpad ADC. This processing includes applying some gain and filtering higher frequencies to avoid aliasing. \n",
    "\n",
    "The goals of this phase are as follows:\n",
    "- Low pass filter circuit\n",
    "- Level shift + gain circuit for ADC\n",
    "- View ADC output on PC\n",
    "- Record data for next phase\n",
    "\n",
    "As mentioned in the main project page, there is a checkpoint every week. Each checkpoint is worth 5 points, and if you are late you are awarded 4 points. The checkpoints are due in the beginning of the lab in the week after. For this phase, the checkpoints (marked **<span style=\"color:green\">green</span>** in the Notebook) are:\n",
    "- Week 1: Circuit schematic agreed by GSI\n",
    "- Week 2: Working microphone front end circuit"
   ]
  },
  {
   "cell_type": "markdown",
   "metadata": {},
   "source": [
    "<a id='part1'></a>\n",
    "## <span style=\"color:blue\">Part 1: Microphone Front End</span>\n",
    "\n",
    "### Materials\n",
    "- Potentiometer\n",
    "- Capacitors\n",
    "- 1 Electret Microphone\n",
    "- Power supply + cables\n",
    "- Oscilloscope + probe"
   ]
  },
  {
   "cell_type": "markdown",
   "metadata": {},
   "source": [
    "In the next part you will put together the first building blocks of your microphone circuit. They will not give you a useable audio signal that you can sample, but they will give you the parts that you need before you start designing.\n",
    "\n",
    "Try to divide your bread into the following sections so that you have room for them all.\n",
    "- Have one (+) rail set aside for 3V and the other for 5V\n",
    "- Connect the two (-) to create your ground rail (signified by orange line)\n",
    "- The blue section is where you will build your front end\n",
    "- The green section is set aside for your motor driver circuit later in the project\n",
    "\n",
    "<img style=\"width:420px\" src=\"http://inst.eecs.berkeley.edu/~ee16b/sp16/lab_pics/proj-breadboard.jpg\">\n",
    "\n",
    "<b>KEEP YOUR CIRCUIT NEAT!</b> That goes without saying :)\n",
    "\n",
    "####Power Supply\n",
    "\n",
    "When it is running around, SIXT33N will run on a 9V battery regulated down to 5V, but for now you use the power supply at your bench. Set up the 5V rail and then the ground rail on both sides (note that you do not have a -5V rail). Make sure you limit the current from your supply to 100mA.\n",
    "\n",
    "Now, you are going to be working with some small signals. You don't want to introduce more noise than you need to, and the power rails can be a large source of noise. To keep some noise off of your power rails add a 10uF capcitor from the 5V rail to ground and from the 3V rail to ground. The large capacitors are known as <b>decoupling capacitance</b> and will keep your rails quieter. You should use them in every circuit you build in the future for the rest of your life.\n",
    "\n",
    "####Microphone\n",
    "\n",
    "The electret microphone behaves as a variable current source depending on the size of the sound waves hitting it. Current is a bit difficult to work with in this case, so you will turn that into a voltage signal using the circuit below. <b>Note that the microphone is polarized</b> - the pin with the 3 metal lines is the ground pin. \n",
    "\n",
    "<img style=\"width:220px\" src=\"http://inst.eecs.berkeley.edu/~ee16b/sp16/lab_pics/proj-mic-no-bias.png\">\n",
    "\n",
    "Before you put the microphone into the breadboard, note that it has very tiny little leads. In fact, these leads are too tiny and do not form a good electrical conection to the breadboard. To fix this you will get to solder! Solder a black wire to the ground pin with 3 metal lines coming out, and a colored wire to the signal pin. Once that is done you can build the circuit above.\n",
    "\n",
    "Once you have build the microphone circuit, try probing $V_{mic}$. You might have to zoom in on your scope to see the signal change when you speak into the microphone. (It might be helpful if you play <a href=\"http://plasticity.szynalski.com/tone-generator.htm\">a constant tone</a>). You will notice that the signal is quite small, but don't worry you will fix this with more gain in your front end.\n",
    "\n",
    "Try probing on both sides of the capacitor. You will notice that, before the capacitor, the signal is drifting a lot. After the capacitor all the drift is gone and the signal is at ground. The capacitor is there to remove the noisy drifting of the microphone, but centering the signal at ground is a problem. Your opamps are going to be powered with 5V and ground. What happens when you put your ground centered signal into an opamp? You will lose half of your signal! That is no good. To fix that, you will add the next part of your circuit.\n",
    "\n",
    "####DC Bias\n",
    "\n",
    "The following circuit will add a DC bias of your choosing to the output of your mic circuit. \n",
    "\n",
    "<img style=\"width:220px\" src=\"http://inst.eecs.berkeley.edu/~ee16b/sp16/lab_pics/proj-mic.png\">\n",
    "\n",
    "However, you will have to be careful with adding DC offset to the output of your signal. Think of a 0.1V DC signal. Now put that signal through a non-inverting opamp with x100 gain. Suddenly that 0.1V DC signal becomes 10V! \n",
    "\n",
    "To make biasing easier, you will notice a new symbol on the schematic. The resistor with an arrow through it is a potentiometer. The potentiometer has 3 terminals. Think of the top two terminals as one resistor and the bottom two as a a second resistor. The two resistors must add up to 50k$\\Omega$, but by turning the knob, you can make the first resistor large and the second small, or vice versa.\n",
    "\n",
    "<img style=\"width:120px\" src=\"http://inst.eecs.berkeley.edu/~ee16b/fa15/lab_pics/pot.png\">\n",
    "\n",
    "There are 2 ways potentiometers are usually used:\n",
    "- Voltage divider (all 3 terminals used)\n",
    "- Variable resistor (only top or bottom resistor used)\n",
    "\n",
    "In this circuit you are using the potentiometer as a voltage divider, but you have added extra resistance so that the voltage is divided over more than just the 50k$\\Omega$. Why did we do this? Think about the capacitor. You have followed the capacitor by a resistor to ground. This forms a high pass filter as well as adding bias to the signal. A 1uF capacitor and a 50k$\\Omega$ resistor will attenuate some of the signals that you actually want. In order to keep the high pass filter from filtering too much of the signal that you want, you will need the resistor values to be much much larger. You would like your high pass cutoff frequeny to be around 10Hz or lower. Thus, we have added the 3 1M$\\Omega$ resistors. \n",
    "\n",
    "Once you have the microphone circuit finished, probe the output node using an oscilloscope to see output waveform. Tune the potentiometer so that when you make a loud sound near the microphone the signal at the output is not clipped and is centered around 1.6V."
   ]
  },
  {
   "cell_type": "markdown",
   "metadata": {},
   "source": [
    "**<span style=\"color:red\">What is the maximum peak-to-peak voltage at the output?</span>** We will call this value $V_{\\text{mic, max}}$.\n",
    "\n",
    "YOUR ANSWER HERE\n",
    "\n",
    "**<span style=\"color:red\">What is the DC voltage at the output?</span>** We will call this value $V_{\\text{mic,DC}}$.\n",
    "\n",
    "YOUR ANSWER HERE"
   ]
  },
  {
   "cell_type": "markdown",
   "metadata": {},
   "source": [
    "<a id='part2'></a>\n",
    "## <span style=\"color:blue\">Part 2: Gain and Filter</span>\n",
    "\n",
    "### Materials\n",
    "- Opamps\n",
    "- Resistors + Potentiometer\n",
    "- Capacitors\n",
    "- 1 Electret Microphone\n",
    "- Power supply + cables\n",
    "- Oscilloscope + probe"
   ]
  },
  {
   "cell_type": "markdown",
   "metadata": {},
   "source": [
    "Here comes the fun part! Design.\n",
    "\n",
    "Given $V_{\\text{mic, max}}$ and $V_{\\text{mic,DC}}$, design a circuit that amplifies and level-shifts the signal so that the output voltage ranges from 0 to 3.3V when the loudest sound is applied. You can use as many op amps as your group has, and any resistors or capacitors in the lab. If you want any other parts, we recommend looking at TI which gives students free samples or buying parts off of digikey.\n",
    "\n",
    "Watch out for the points below:\n",
    "- The input signal is very small!\n",
    "- The Launchpad will sample every 0.35 ms. In order to remove noise from aliasing (which you will learn about very very soon in class, but for now take our word for it) you need a filter with cutoff at 1.5kHz.\n",
    "- The frequencies you care about and the aliasing noise are very close so use a second order filter.\n",
    "- Your breadboard has a 5V power source, and the Launchpad has 3.3V so watch out for the DC level of the signals.\n",
    "- Remember, any DC offset gets amplified, so be conscious of DC bias at every stage of your circuit. You can use the potentiometer to fine tune your DC levels later in the circuit.\n",
    "\n",
    "\n",
    "<b>Your final stage must be the following buffer circuit. This is a separate op amp chip that will be powered off of the Launchpad 3.3V. The buffer will prevent any damage to your Launchpad pins.</b>\n",
    "\n",
    "<center><img width='220px' src=\"http://inst.eecs.berkeley.edu/~ee16b/sp16/lab_pics/proj-buffer.png\"></center>"
   ]
  },
  {
   "cell_type": "markdown",
   "metadata": {},
   "source": [
    "**<span style=\"color:red\">Draw a block diagram of your circuit, show it to your GSI.</span>** Your design choies and process are a very important part of this phase. Make sure that you describe to your GSI in detail all of your reasons for each design choice.  Mark down the expected voltage range, frequeny range, and DC value of your signal at each input and output wire in the diagram. Label the gain and cutoff frequency of each block. Make sure that the output matches the requirements above."
   ]
  },
  {
   "cell_type": "markdown",
   "metadata": {},
   "source": [
    "<img width='30px' align='left' src=\"http://inst.eecs.berkeley.edu/~ee16b/sp16/lab_pics/check.png\">\n",
    "<br/>\n",
    "## <span style=\"color:green\">CHECKPOINT 1</span>\n",
    " <span style=\"color:green\">**Draw a schematic of your circuit and show it to your GSI.** Make sure the voltage ranges, gain and cutoff frequencies match your block diagram. Your GSI will either approve your design or suggest changes.</span>"
   ]
  },
  {
   "cell_type": "markdown",
   "metadata": {},
   "source": [
    "<b>Once your GSI approves your schematic</b>, build it and verify that it behaves as expected. Just as a reminder, try to keep it in the \"Front End\" section of your breadboard. Make sure that wires are secure, neat, and color coded so that your circuit continues to work for the rest of the project.\n",
    "\n",
    "**<span style=\"color:red\">Check that:</span>**\n",
    "- The DC offset at each node is the same as your block diagram\n",
    "- The gain of each amplifier is the same as your block diagram"
   ]
  },
  {
   "cell_type": "markdown",
   "metadata": {},
   "source": [
    "**<span style=\"color:red\">Check the frequency response of your circuit.</span>** Use the function generator to apply a specific input frequency (instead of $V_{mic}$). Watch the output of your signal on your scope and change the frequency from low to high. Check that the amplitude of the output at the cutoff frequency is attenuated as expected (i.e. check that your 3dB point happens at the cutoff frequency that you want)."
   ]
  },
  {
   "cell_type": "markdown",
   "metadata": {},
   "source": [
    "<a id='part3'></a>\n",
    "## <span style=\"color:blue\">Part 3: Data Collection</span>\n",
    "\n",
    "### Materials\n",
    "- Part 1 setup\n",
    "- Launchpad + USB cable"
   ]
  },
  {
   "cell_type": "markdown",
   "metadata": {},
   "source": [
    "Your Launchpad will be colleting your speech data, so you will want to make sure that you can digitize your analog signal properly and nothing on your Launchpad is broken. Make sure that the ADC works properly by uploading <b>`adc_read.ino`</b> to the Launchpad. Connect pin `6.0` to the output of your circuit and <b>connect the ground of the Launchpad to the ground of your circuit</b>. From the command line, run <b>`python adc_read.py -D COM###`</b> (substitute `###` with the proper number from Device Manager). This code samples the ADC every 3ms. We will use a higher sampling rate soon, but for now make sure the plot of the ADC output looks similar to your scope output.\n",
    "\n",
    "If you see a graph on your screen with a signal that changes when you make noises at your microphone and is centered in the middle of the graph, then you have succeeded! Congratulations!"
   ]
  },
  {
   "cell_type": "markdown",
   "metadata": {},
   "source": [
    "<img width='30px' align='left' src=\"http://inst.eecs.berkeley.edu/~ee16b/sp16/lab_pics/check.png\">\n",
    "<br/>\n",
    "## <span style=\"color:green\">CHECKPOINT 2</span>\n",
    " <span style=\"color:green\">**Show your GSI your working circuit with the microphone.** Make sure the voltage ranges, gain and cutoff frequencies are as expected from your design.</span>"
   ]
  }
 ],
 "metadata": {
  "kernelspec": {
   "display_name": "Python 3",
   "language": "python",
   "name": "python3"
  },
  "language_info": {
   "codemirror_mode": {
    "name": "ipython",
    "version": 3
   },
   "file_extension": ".py",
   "mimetype": "text/x-python",
   "name": "python",
   "nbconvert_exporter": "python",
   "pygments_lexer": "ipython3",
   "version": "3.4.3"
  }
 },
 "nbformat": 4,
 "nbformat_minor": 0
}
