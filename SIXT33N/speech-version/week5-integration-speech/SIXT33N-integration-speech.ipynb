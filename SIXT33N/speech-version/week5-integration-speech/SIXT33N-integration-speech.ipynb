{
 "cells": [
  {
   "cell_type": "markdown",
   "metadata": {},
   "source": [
    "# SIXT33N Project\n",
    "## Phase 3: Final Integration - Speech\n",
    "\n",
    "### EE 16B: Designing Information Devices and Systems II, Spring 2016\n",
    "\n",
    "\n",
    "Written by Nathaniel Mailoa and Emily Naviasky (2016)\n",
    "\n",
    "nmailoa@berkeley.edu &emsp; enaviasky@berkeley.edu"
   ]
  },
  {
   "cell_type": "markdown",
   "metadata": {},
   "source": [
    "**Name 1**:\n",
    "\n",
    "**Login**: ee16b-\n",
    "\n",
    "\n",
    "**Name 2**:\n",
    "\n",
    "**Login**: ee16b-"
   ]
  },
  {
   "cell_type": "markdown",
   "metadata": {},
   "source": [
    "## Table of Contents\n",
    "\n",
    "* [Introduction](#intro)\n",
    "* [Integration](#part1)\n",
    "* [Final Demo and Writeup](#part2)"
   ]
  },
  {
   "cell_type": "markdown",
   "metadata": {},
   "source": [
    "<a id='intro'></a>\n",
    "## Introduction\n",
    "\n",
    "Now you are in your last steps! SIXT33N has slowly been taking shape and soon it will be running around causing trouble. All you need to do now is to put everything together in a single Launchpad sketch. The objective is to get the SIXT33N to move straight fast, move straight slow, turn right, or turn left when it hears the corresponding command.\n",
    "\n",
    "As mentioned in the main project page, there is a checkpoint every week. Each checkpoint is worth 5 points, and if you are late you are awarded 4 points. The checkpoint for this phase is the demo of your project. Please read the last section of the notebook for details."
   ]
  },
  {
   "cell_type": "markdown",
   "metadata": {},
   "source": [
    "<a id='part1'></a>\n",
    "## <span style=\"color:blue\">Integration</span>"
   ]
  },
  {
   "cell_type": "markdown",
   "metadata": {},
   "source": [
    "Firstly, move the circuit and setup from the controls phase to the main breadboard. Be very careful when moving it over and <b>check that everything is still functioning correctly by re-running the closed loop control code</b>.\n",
    "\n",
    "Everything you work on in this phase will be in the sketch `integration.ino`, which is your final sketch for the SIXT33N. Open the sketch - we will quickly walk through the sketch. As we go through it, fill in sections labelled `YOUR CODE HERE` as instructed.\n"
   ]
  },
  {
   "cell_type": "markdown",
   "metadata": {},
   "source": [
    "### Encoder Pins\n",
    "\n",
    "The top of the sketch contains some constant and variable definitions. We start with defining pins. The choice of these pins (especially the encoder pins) are embedded in the actual code, so if pins 2.5 or 1.2 got burned at some point in the semester, now is the time to flag down your GSI. They will help you modify the important part of the sketch.\n",
    "\n",
    "### Enveloping and PCA Vectors\n",
    "\n",
    "In the main body of the sketch, the code defines 2 modes: `MODE_LISTEN` and `MODE_DRIVE`. We can look at the 2 modes and see what they are doing. \n",
    "\n",
    "In `MODE_LISTEN`, the SIXT33N listens to your words and tries to classify the word. The Launchpad will repeatedly record some samples and perform the enveloping. If the Launchpad sucessfully classifies a word then it will enter `MODE_DRIVE`.\n",
    "\n",
    "First, look for **`CODE BLOCK A1`** near the top of the sketch. Copy the same code block A1 from the `classify.ino` sketch from the processing integration phase. This should provide the Launchpad with the snippet size, pre-length, enveloping threshold, K-means threshold and loudness threshold.\n",
    "\n",
    "Next, look for **`CODE BLOCK A2`**. Copy the same code block A2 from the `classify.ino` sketch from the processing integration phase. This should provide the Launchpad with the PCA vector, mean vector as well as the K-means centroids.\n",
    "\n",
    "\n",
    "### Wheel Control \n",
    "\n",
    "In `MODE_DRIVE`, the SIXT33N executes the closed loop control. Depending on the word that was classified, it will set a desired speed and then go straight at that speed.\n",
    "\n",
    "Look for **`CODE BLOCK A3`**. Copy the same code block A3 from the `closed_loop.ino` sketch from the controls phase. This should tell the Launchpad the gain values of the control loop and add new variables as needed to turn.\n",
    "\n",
    "\n",
    "### Classification and Driving\n",
    "\n",
    "Next, go to the section labeled **`CODE BLOCK B`** in the `loop()` function. Copy the code from code block B in `classify.ino` from the processing integration phase here. This block should do the PCA projection and classification and identify a word. \n",
    "\n",
    "Then, based on the identified commands, write code that makes the SIXT33N behave as desired. As a reminder, the four commands should make the SIXT33N:\n",
    "- Drive straight fast\n",
    "- Drive straight slow\n",
    "- Turn left\n",
    "- Turn right\n",
    "\n",
    "You might want to look back at the `turning.ino` sketch to see how you implement the turns. You can modify any of the CODE BLOCKs to implement the turns.\n",
    "\n",
    "If you changed the **`INITIAL_PWM`** constant near the top of the sketch in the controls phase, you also need to modify it in `integration.ino`.\n",
    "\n",
    "### Speed Controller\n",
    "\n",
    "Now go to **`CODE BLOCK C`**. You should copy the code block C of `closed_loop.ino` from the controls phase here. The block should set the new $u[k]$ values for each wheel."
   ]
  },
  {
   "cell_type": "markdown",
   "metadata": {},
   "source": [
    "That's it! You should be set. Now load the sketch into your Launchpad and make sure your Launchpad's 5V pin is connected to the voltage regulator output. If you forgot the pins you should attach to the motors and encoders, you can find them in the define statements in the top of the Launchpad sketch. If your car doesn't have as much drive as before, you might need to change to fresh batteries - check the voltage of your battery using the Digital Multimeter and if it is considerably less than 9V ask for fresh ones.\n",
    "\n",
    "Put your car on the floor and try shouting some commands at it! Hopefully, it can classify both commands correctly and move in a straight line at different speeds.\n",
    "\n",
    "Did it work? If not, you might still need to tweak your control parameters. If it did work: time to celebrate!"
   ]
  },
  {
   "cell_type": "markdown",
   "metadata": {},
   "source": [
    "<a id='part2'></a>\n",
    "## <span style=\"color:blue\">Final Demo and Writeup</span>"
   ]
  },
  {
   "cell_type": "markdown",
   "metadata": {},
   "source": [
    "Congratulations - You're done! If you have some time, be creative and try to add a functionality to the SIXT33N! Don't hesitate to ask for your GSI's help when you want to modify the Launchpad sketch since it is more complicated than previous sketches. \n",
    "\n",
    "### Demo\n",
    "\n",
    "You have the option to either demo the project during your lab time in the RRR week or to take a video of it working properly. In the demo, you will have to:\n",
    "- Set SIXT33N on the ground, then say the commands one-by-one. You should at least say each command twice, in any order you'd like.\n",
    "- You are allowed to reposition the car inbetween the steps if you have trouble crashing into walls.\n",
    "\n",
    "#### Live Demo\n",
    "\n",
    "During the live demo, you will bring your SIXT33N and show the GSIs your project. Say the 4 different words it recognizes and show that the SIXT33N turns or moves straight according to the desired behavior.\n",
    "\n",
    "#### Video Demo\n",
    "\n",
    "Instead of doing a live demo, you can also record a video of your project and upload it to YouTube.\n",
    "- The video has to include the members' faces. Start by introducing your group. Also explain what are the commands you will use and what are the desired behavior of each command.\n",
    "- The video cannot be edited or sliced - the demo should be continuous.\n",
    "- Email your TA the link to the uploaded video by <b>Friday, May 6 at 23:59</b>. NO LATE SUBMISSIONS ARE ACCEPTED.\n",
    "\n",
    "\n",
    "### Writeup\n",
    "\n",
    "On top of the demo, you will need to submit a writeup of the project. Briefly summarize each phase of your project and elaborate on your design choices. The writeup will be around 2 pages uploaded to glookup in the assignment proj_writeup as <b>proj_writeup.pdf</b>, due by <b>Friday, May 6 at 23:59</b>. NO LATE SUBMISSIONS ARE ACCEPTED.\n",
    "\n",
    "The writeup should hit these topics:\n",
    "- Circuit: What was your final schematic? Explain each stage of the circuit and why they are needed. Provide expressions for the gain and frequency response of each stage of the circuit.\n",
    "- PCA Classification: Talk briefly about what words worked well and what words didn't? Why do you think the 4 words you ended up with worked well? Did you implement anything special to make the PCA or classification more robust?\n",
    "- Control: How did you determine the open loop model, closed loop eigenvalues, and controller values? What did you modify in the control model to allow turns?\n",
    "- General: What did you learn from this project? Do you have any particularly interesting experience you want to share? What parts of the project could be improved to make it more interesting?\n",
    "- If you did a video demo, include the video link in your writeup"
   ]
  }
 ],
 "metadata": {
  "kernelspec": {
   "display_name": "Python 3",
   "language": "python",
   "name": "python3"
  },
  "language_info": {
   "codemirror_mode": {
    "name": "ipython",
    "version": 3
   },
   "file_extension": ".py",
   "mimetype": "text/x-python",
   "name": "python",
   "nbconvert_exporter": "python",
   "pygments_lexer": "ipython3",
   "version": "3.4.3"
  }
 },
 "nbformat": 4,
 "nbformat_minor": 0
}
