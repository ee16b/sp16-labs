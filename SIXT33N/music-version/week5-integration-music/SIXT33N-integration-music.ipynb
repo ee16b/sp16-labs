{
 "cells": [
  {
   "cell_type": "markdown",
   "metadata": {},
   "source": [
    "# SIXT33N Project\n",
    "## Phase 3: Final Integration - Music\n",
    "\n",
    "### EE 16B: Designing Information Devices and Systems II, Spring 2016\n",
    "\n",
    "\n",
    "Written by Nathaniel Mailoa and Emily Naviasky (2016)\n",
    "\n",
    "nmailoa@berkeley.edu &emsp; enaviasky@berkeley.edu"
   ]
  },
  {
   "cell_type": "markdown",
   "metadata": {},
   "source": [
    "**Name 1**:\n",
    "\n",
    "**Login**: ee16b-\n",
    "\n",
    "\n",
    "**Name 2**:\n",
    "\n",
    "**Login**: ee16b-"
   ]
  },
  {
   "cell_type": "markdown",
   "metadata": {},
   "source": [
    "## Table of Contents\n",
    "\n",
    "* [Introduction](#intro)\n",
    "* [Integration](#part1)\n",
    "* [Final Demo and Writeup](#part2)"
   ]
  },
  {
   "cell_type": "markdown",
   "metadata": {},
   "source": [
    "<a id='intro'></a>\n",
    "## Introduction\n",
    "\n",
    "Now you are in your last steps! SIXT33N has slowly been taking shape and soon it will be running around causing trouble. All you need to do now is to put everything together in a single Launchpad sketch. The objective is to get the SIXT33N to move in a direction depending on the genre of music it hears. \n",
    "\n",
    "As mentioned in the main project page, there is a checkpoint every week. Each checkpoint is worth 5 points, and if you are late you are awarded 4 points. The checkpoint for this phase is the writeup and the live demo or demo video of your project, each worth 5 points. Please read the last section of the notebook for details.\n",
    "\n",
    "### Desired Behavior\n",
    "The SIXT33N will repeatedly listen to some music, classify the music, and move depending on the genre it identifies. When it starts and hears a genre, it will either turn left on genre 1 or turn right on genre 2. If the genre does not change in subsequent steps, then it will go straight. However, when it identifies another genre, it will turn left if it hears genre 1 and turn right if it hears genre 2. Don't worry too much about the logic - we have implemented them for you in the Launchpad sketch. Your job right now is to make SIXT33N go relatively straight and turn."
   ]
  },
  {
   "cell_type": "markdown",
   "metadata": {},
   "source": [
    "<a id='part1'></a>\n",
    "## <span style=\"color:blue\">Integration</span>"
   ]
  },
  {
   "cell_type": "markdown",
   "metadata": {},
   "source": [
    "Firstly, move the circuit and setup from the controls phase to the main breadboard. Be very careful when moving it over and <b>check that everything is still functioning correctly by re-running the closed loop control code</b>.\n",
    "\n",
    "Everything you work on in this phase will be in the sketch `integration.ino`, which is your final sketch for the SIXT33N. Open the sketch - we will quickly walk through the sketch. As we go through it, fill in sections labelled `YOUR CODE HERE` as instructed."
   ]
  },
  {
   "cell_type": "markdown",
   "metadata": {},
   "source": [
    "### Encoder Pins\n",
    "\n",
    "The top of the sketch contains some constant and variable definitions. We start with defining pins. The choice of these pins (especially the encoder pins) are embedded in the actual code, so if pins 2.5 or 1.2 got burned at some point in the semester and you do not have access to a healthy Launchpad, now is the time to flag down your GSI. They will help you modify the important part of the sketch.\n",
    "\n",
    "### PCA Vectors\n",
    "\n",
    "In the main body of the sketch, the code defines 2 modes: `MODE_LISTEN` and `MODE_DRIVE`. We can look at the 2 modes and see what they are doing. \n",
    "\n",
    "In `MODE_LISTEN`, the SIXT33N listens to the music and tries to classify the genre. The Launchpad will repeatedly record some samples and take the FFT. If the Launchpad sucessfully classifies a genre then it will enter `MODE_DRIVE`.\n",
    "\n",
    "Look for **`CODE BLOCK A1`** near the top of the sketch. Copy the same code block A1 from the `classify.ino` sketch from the processing integration phase. This should provide the Launchpad with the PCA vector and mean vector.\n",
    "\n",
    "\n",
    "### Wheel Control \n",
    "\n",
    "In `MODE_DRIVE`, the SIXT33N executes the closed loop control. Depending on the loudness and the genre that was classified, it will set a desired speed and then go straight at that speed.\n",
    "\n",
    "Look for **`CODE BLOCK A3`**. Copy the same code block A3 from the `closed_loop.ino` sketch from the controls phase. This should tell the Launchpad the gain values of the control loop and add new variables as needed to turn.\n",
    "\n",
    "\n",
    "### Classification\n",
    "\n",
    "Next, go to the section labeled **`CODE BLOCK B`** in the `loop()` function. Copy the code from code block B in `classify.ino` from the processing integration phase here. This block should do the PCA projection and classification and identify a genre. \n",
    "\n",
    "<b>We have added 2 new variables right before this code block that you need to worry about.</b> **`identified_genre`** should be set to the genre number that you have identified (1 or 2) while **`found_genre`** tells the sketch that you have identified a genre. Remember that you might not want to identify the genre after every data point/sample; in this case, just leave `found_genre` as 0.\n",
    "\n",
    "### Speed Controller\n",
    "\n",
    "Now go to **`CODE BLOCK C`**. You should copy the code block C of `closed_loop.ino` from the controls phase here. The block should set the new $u[k]$ values for each wheel.\n",
    "\n",
    "### Turning\n",
    "\n",
    "There is one last code block you need to fill in. In **`CODE BLOCK D`**, find the sections marked `YOUR CODE HERE`. Here you should implement your turn. Based on the comments, either turn left or right by changing some variables and calling the function `wheel_drive`, just like the **`CODE BLOCK D`** in the controls phase.\n",
    "\n",
    "One last thing - if you changed the **`INITIAL_PWM`** constant near the top of the sketch in the controls phase, you also need to modify it in `integration.ino`."
   ]
  },
  {
   "cell_type": "markdown",
   "metadata": {},
   "source": [
    "That's it! You should be set. Now load the sketch into your Launchpad and make sure your Launchpad's 5V pin is connected to the voltage regulator output. If you forgot the pins you should attach to the motors and encoders, you can find them in the define statements in the top of the Launchpad sketch. If your car doesn't have as much drive as before, you might need to change to fresh batteries - check the voltage of your battery using the Digital Multimeter and if it is considerably less than 9V ask for fresh ones.\n",
    "\n",
    "Put your car on the floor and try playing some music to it! Hopefully, it can classify both genres correctly and move in the desired directions.\n",
    "\n",
    "Did it work? If not, you might still need to tweak your control parameters. If it did work: time to celebrate!"
   ]
  },
  {
   "cell_type": "markdown",
   "metadata": {},
   "source": [
    "<a id='part2'></a>\n",
    "## <span style=\"color:blue\">Final Demo and Writeup</span>"
   ]
  },
  {
   "cell_type": "markdown",
   "metadata": {},
   "source": [
    "Congratulations - You're done! If you have some time, be creative and try to add a functionality to the SIXT33N! Don't hesitate to ask for your GSI's help when you want to modify the Launchpad sketch since it is more complicated than previous sketches. \n",
    "\n",
    "### Demo\n",
    "\n",
    "You have the option to either demo the project during your lab time in the RRR week or to take a video of it working properly. In the demo, you will have to:\n",
    "- Set SIXT33N on the ground, then start by playing genre 1 for 3 steps (a cycle of listening, identifying and moving). The car should turn in the first step, then go relatively straight for 2 steps. \n",
    "- Next, switch to genre 2 and and play it for 3 steps. The car should turn the other way for a step and go relatively straight for 2 steps. \n",
    "- Finally, switch back to genre 1 for 2 steps. The car should turn during the first step and go straight during the second step.\n",
    "- You are allowed to reposition the car inbetween the steps if you have trouble crashing into walls.\n",
    "\n",
    "\n",
    "#### Live Demo\n",
    "\n",
    "During the live demo, you will bring your SIXT33N and show the GSIs your project. Play the 2 different genres and  show that the SIXT33N turns and moves straight depending on the genre it hears. Refer to the introduction section of this Notebook for the desired behavior.\n",
    "\n",
    "#### Video Demo\n",
    "\n",
    "Instead of doing a live demo, you can also record a video of your project and upload it to YouTube.\n",
    "- The video has to include the members' faces. Start by introducing your group.\n",
    "- The video cannot be edited or sliced - the demo should be continuous.\n",
    "- Email your TA the link to the uploaded video by <b>Friday, May 6 at 23:59</b>. NO LATE SUBMISSIONS ARE ACCEPTED.\n",
    "\n",
    "### Writeup\n",
    "\n",
    "On top of the demo, you will need to submit a writeup of the project. Briefly summarize each phase of your project and elaborate on your design choices. The writeup will be around 2 pages uploaded to glookup in the assignment proj_writeup as <b>proj_writeup.pdf</b>, due by <b>Friday, May 6 at 23:59</b>. NO LATE SUBMISSIONS ARE ACCEPTED.\n",
    "\n",
    "The writeup should hit these topics:\n",
    "- Circuit: What was your final schematic? Explain each stage of the circuit and why they are needed. Provide expressions for the gain and frequency response of each stage of the circuit.\n",
    "- PCA Classification: Talk briefly about what genres worked well and what words didn't? Why do you think the 2 genres you ended up with worked well? Did you implement anything special to make the PCA or classification more robust?\n",
    "- Control: How did you determine the open loop model, closed loop eigenvalues, and controller values? What did you modify in the control model to allow turns?\n",
    "- General: What did you learn from this project? Do you have any particularly interesting experience you want to share? What parts of the project could be improved to make it more interesting?\n",
    "- If you did a video demo, include the video link in your writeup"
   ]
  }
 ],
 "metadata": {
  "kernelspec": {
   "display_name": "Python 3",
   "language": "python",
   "name": "python3"
  },
  "language_info": {
   "codemirror_mode": {
    "name": "ipython",
    "version": 3
   },
   "file_extension": ".py",
   "mimetype": "text/x-python",
   "name": "python",
   "nbconvert_exporter": "python",
   "pygments_lexer": "ipython3",
   "version": "3.4.3"
  }
 },
 "nbformat": 4,
 "nbformat_minor": 0
}
